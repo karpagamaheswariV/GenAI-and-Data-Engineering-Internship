{
 "cells": [
  {
   "cell_type": "code",
   "execution_count": 3,
   "id": "0d826a20-de5f-4a0f-9f4c-31a2d9eaa941",
   "metadata": {},
   "outputs": [
    {
     "name": "stdout",
     "output_type": "stream",
     "text": [
      "['False', 'None', 'True', 'and', 'as', 'assert', 'async', 'await', 'break', 'class', 'continue', 'def', 'del', 'elif', 'else', 'except', 'finally', 'for', 'from', 'global', 'if', 'import', 'in', 'is', 'lambda', 'nonlocal', 'not', 'or', 'pass', 'raise', 'return', 'try', 'while', 'with', 'yield']\n"
     ]
    }
   ],
   "source": [
    "import keyword\n",
    "print(keyword.kwlist)\n"
   ]
  },
  {
   "cell_type": "code",
   "execution_count": 4,
   "id": "e3775f36-05f4-4356-855d-a5487a85a310",
   "metadata": {},
   "outputs": [
    {
     "data": {
      "text/plain": [
       "35"
      ]
     },
     "execution_count": 4,
     "metadata": {},
     "output_type": "execute_result"
    }
   ],
   "source": [
    "len(keyword.kwlist)"
   ]
  },
  {
   "cell_type": "code",
   "execution_count": 5,
   "id": "4fc2456c-3732-41bb-8300-ec5b9e3d2aa1",
   "metadata": {},
   "outputs": [
    {
     "name": "stdout",
     "output_type": "stream",
     "text": [
      "65\n"
     ]
    }
   ],
   "source": [
    "var_1=65\n",
    "type(var_1)\n",
    "print(var_1)"
   ]
  },
  {
   "cell_type": "code",
   "execution_count": 6,
   "id": "14d31768-4d47-40af-ba4b-90fd5c38ba08",
   "metadata": {},
   "outputs": [
    {
     "data": {
      "text/plain": [
       "int"
      ]
     },
     "execution_count": 6,
     "metadata": {},
     "output_type": "execute_result"
    }
   ],
   "source": [
    "type(var_1)\n"
   ]
  },
  {
   "cell_type": "markdown",
   "id": "77199fd4-b460-4e86-94c0-acb9468823de",
   "metadata": {},
   "source": [
    "1.Datatypes"
   ]
  },
  {
   "cell_type": "code",
   "execution_count": 1,
   "id": "ad9b0dbc-b4fa-4f8a-8b19-552ea4b113e0",
   "metadata": {},
   "outputs": [
    {
     "data": {
      "text/plain": [
       "str"
      ]
     },
     "execution_count": 1,
     "metadata": {},
     "output_type": "execute_result"
    }
   ],
   "source": [
    "var_2=\"This is a string\"\n",
    "var_3=\"This is also a string\"\n",
    "type(var_2)"
   ]
  },
  {
   "cell_type": "code",
   "execution_count": 2,
   "id": "d8cd7da2-be12-49ab-ba6c-84c82cab3d4e",
   "metadata": {},
   "outputs": [
    {
     "name": "stdout",
     "output_type": "stream",
     "text": [
      "<class 'bool'>\n",
      "False\n"
     ]
    }
   ],
   "source": [
    "var_4=True\n",
    "var_5=False\n",
    "#each variable is an object of class datatype\n",
    "print(type(var_4))\n",
    "print(var_5)"
   ]
  },
  {
   "cell_type": "code",
   "execution_count": 7,
   "id": "0d2d4640-a6fa-4320-9970-fe6044d40833",
   "metadata": {},
   "outputs": [],
   "source": [
    "var_6=123.334\n",
    "var_7=12+20j\n"
   ]
  },
  {
   "cell_type": "code",
   "execution_count": 8,
   "id": "857cc913-4c89-432e-bd11-7165a93abc06",
   "metadata": {},
   "outputs": [
    {
     "data": {
      "text/plain": [
       "float"
      ]
     },
     "execution_count": 8,
     "metadata": {},
     "output_type": "execute_result"
    }
   ],
   "source": [
    "type(var_6)\n"
   ]
  },
  {
   "cell_type": "code",
   "execution_count": 9,
   "id": "6a1b8778-979b-4bb7-9e6f-946b2fa9b99c",
   "metadata": {},
   "outputs": [
    {
     "data": {
      "text/plain": [
       "complex"
      ]
     },
     "execution_count": 9,
     "metadata": {},
     "output_type": "execute_result"
    }
   ],
   "source": [
    "type(var_7)"
   ]
  },
  {
   "cell_type": "markdown",
   "id": "ba2f1ccd-0278-41af-af66-cfb68d504eb1",
   "metadata": {},
   "source": [
    "2.Data Structures\n",
    "  * List\n",
    "  * Tuple\n",
    "  * Dictionary\n",
    "  * Sets"
   ]
  },
  {
   "cell_type": "markdown",
   "id": "3b5c689d-cf44-4274-b147-c8f016fc4fbc",
   "metadata": {},
   "source": [
    "List\n",
    "  * List are mutable collection of heterogeneous datatypes\n",
    "  * Lists are ordered collection of data.\n"
   ]
  },
  {
   "cell_type": "code",
   "execution_count": 11,
   "id": "f3eb4ec1-f5e1-438e-a911-bd92071afe3b",
   "metadata": {},
   "outputs": [],
   "source": [
    "list_1=[True,False,'ABCD',1234567,20+12j,'Mahi']"
   ]
  },
  {
   "cell_type": "code",
   "execution_count": 12,
   "id": "b6aa50ec-cf6a-4f62-b26f-ecedb3a48108",
   "metadata": {},
   "outputs": [],
   "source": [
    "list_1.append('False')\n"
   ]
  },
  {
   "cell_type": "code",
   "execution_count": 13,
   "id": "7873aca2-10f2-4f2d-9334-934aa2ee5774",
   "metadata": {},
   "outputs": [
    {
     "name": "stdout",
     "output_type": "stream",
     "text": [
      "[True, False, 'ABCD', 1234567, (20+12j), 'Mahi', 'False']\n"
     ]
    }
   ],
   "source": [
    "print(list_1)"
   ]
  },
  {
   "cell_type": "code",
   "execution_count": 15,
   "id": "5154bbbe-35c5-4479-9d73-59af3e6fdedc",
   "metadata": {},
   "outputs": [],
   "source": [
    "list_1.extend([20,12,8.56])\n"
   ]
  },
  {
   "cell_type": "code",
   "execution_count": 16,
   "id": "a72f0031-4d3d-4f65-9d00-faa8b3644628",
   "metadata": {},
   "outputs": [
    {
     "name": "stdout",
     "output_type": "stream",
     "text": [
      "[True, False, 'ABCD', 1234567, (20+12j), 'Mahi', 'False', 20, 12, 8.56]\n"
     ]
    }
   ],
   "source": [
    "print(list_1)"
   ]
  },
  {
   "cell_type": "code",
   "execution_count": 17,
   "id": "450a3b7d-dc71-4cb0-95d7-1affea024714",
   "metadata": {},
   "outputs": [],
   "source": [
    "list_1.insert(1,'New')"
   ]
  },
  {
   "cell_type": "code",
   "execution_count": 18,
   "id": "6e7c6c07-1299-4ce3-b0e7-266b6421a2fa",
   "metadata": {},
   "outputs": [
    {
     "name": "stdout",
     "output_type": "stream",
     "text": [
      "[True, 'New', False, 'ABCD', 1234567, (20+12j), 'Mahi', 'False', 20, 12, 8.56]\n"
     ]
    }
   ],
   "source": [
    "print(list_1)"
   ]
  },
  {
   "cell_type": "code",
   "execution_count": 21,
   "id": "46003d3c-186d-4b5b-a84b-530c7073bb8d",
   "metadata": {},
   "outputs": [
    {
     "data": {
      "text/plain": [
       "1"
      ]
     },
     "execution_count": 21,
     "metadata": {},
     "output_type": "execute_result"
    }
   ],
   "source": [
    "list_1.count('False')"
   ]
  },
  {
   "cell_type": "code",
   "execution_count": 25,
   "id": "8409ebd7-8ad3-49ec-a45d-522475c7895d",
   "metadata": {},
   "outputs": [],
   "source": [
    "list_2=list_1.copy()\n",
    "#soft copy"
   ]
  },
  {
   "cell_type": "code",
   "execution_count": 24,
   "id": "a19aa16c-920d-457c-b028-8bfceb9d13bc",
   "metadata": {},
   "outputs": [
    {
     "name": "stdout",
     "output_type": "stream",
     "text": [
      "[True, 'New', False, 'ABCD', 1234567, (20+12j), 'Mahi', 'False', 20, 12, 8.56]\n"
     ]
    }
   ],
   "source": [
    "print(list_2)"
   ]
  },
  {
   "cell_type": "code",
   "execution_count": 26,
   "id": "23deb285-4b9b-42b8-b363-b8522c61fb44",
   "metadata": {},
   "outputs": [],
   "source": [
    "list_3=list_1\n",
    "#deep copy (copy by reference)"
   ]
  },
  {
   "cell_type": "code",
   "execution_count": 27,
   "id": "1db31073-6327-42be-a0b2-49d9e16dce3a",
   "metadata": {},
   "outputs": [
    {
     "name": "stdout",
     "output_type": "stream",
     "text": [
      "[True, 'New', False, 'ABCD', 1234567, (20+12j), 'Mahi', 'False', 20, 12, 8.56]\n"
     ]
    }
   ],
   "source": [
    "print(list_3)"
   ]
  },
  {
   "cell_type": "code",
   "execution_count": 28,
   "id": "cb73c876-c23d-4b82-b4a1-58f3505526d9",
   "metadata": {},
   "outputs": [],
   "source": [
    "list_1.append(984524345)"
   ]
  },
  {
   "cell_type": "code",
   "execution_count": 29,
   "id": "ce651506-eaac-4ad5-a4dd-317aefebce50",
   "metadata": {},
   "outputs": [
    {
     "name": "stdout",
     "output_type": "stream",
     "text": [
      "[True, 'New', False, 'ABCD', 1234567, (20+12j), 'Mahi', 'False', 20, 12, 8.56]\n",
      "[True, 'New', False, 'ABCD', 1234567, (20+12j), 'Mahi', 'False', 20, 12, 8.56, 984524345]\n"
     ]
    }
   ],
   "source": [
    "print(list_2)\n",
    "print(list_3)"
   ]
  },
  {
   "cell_type": "code",
   "execution_count": 30,
   "id": "c0eed9e7-49df-4864-acf8-43d674df433d",
   "metadata": {},
   "outputs": [
    {
     "data": {
      "text/plain": [
       "984524345"
      ]
     },
     "execution_count": 30,
     "metadata": {},
     "output_type": "execute_result"
    }
   ],
   "source": [
    "list_1.pop()"
   ]
  },
  {
   "cell_type": "code",
   "execution_count": 31,
   "id": "3d387c30-4d8c-4d50-88e4-e3ac46c4ad82",
   "metadata": {},
   "outputs": [
    {
     "data": {
      "text/plain": [
       "False"
      ]
     },
     "execution_count": 31,
     "metadata": {},
     "output_type": "execute_result"
    }
   ],
   "source": [
    "list_1.pop(2)\n"
   ]
  },
  {
   "cell_type": "code",
   "execution_count": 32,
   "id": "a094cef9-e89c-48d6-a01c-94657b7b632c",
   "metadata": {},
   "outputs": [],
   "source": [
    "list_1.remove('False')"
   ]
  },
  {
   "cell_type": "code",
   "execution_count": 33,
   "id": "f13ddcda-2bab-4f6e-a6db-251d8c6a30ab",
   "metadata": {},
   "outputs": [
    {
     "name": "stdout",
     "output_type": "stream",
     "text": [
      "[True, 'New', 'ABCD', 1234567, (20+12j), 'Mahi', 20, 12, 8.56]\n"
     ]
    }
   ],
   "source": [
    "print(list_1)"
   ]
  },
  {
   "cell_type": "code",
   "execution_count": 36,
   "id": "32c1bf90-0993-44ba-9756-d4dea2eed840",
   "metadata": {},
   "outputs": [
    {
     "ename": "ValueError",
     "evalue": "list.remove(x): x not in list",
     "output_type": "error",
     "traceback": [
      "\u001b[1;31m---------------------------------------------------------------------------\u001b[0m",
      "\u001b[1;31mValueError\u001b[0m                                Traceback (most recent call last)",
      "Cell \u001b[1;32mIn[36], line 1\u001b[0m\n\u001b[1;32m----> 1\u001b[0m list_1\u001b[38;5;241m.\u001b[39mremove(\u001b[38;5;241m0\u001b[39m) \u001b[38;5;66;03m#remove False\u001b[39;00m\n\u001b[0;32m      2\u001b[0m list_1\u001b[38;5;241m.\u001b[39mremove(\u001b[38;5;241m1\u001b[39m)\n",
      "\u001b[1;31mValueError\u001b[0m: list.remove(x): x not in list"
     ]
    }
   ],
   "source": [
    "list_1.remove(0) #remove False\n",
    "list_1.remove(1) #remove True"
   ]
  },
  {
   "cell_type": "code",
   "execution_count": 38,
   "id": "dfed6469-c219-4d2c-8454-2ee2c6021ea4",
   "metadata": {},
   "outputs": [
    {
     "data": {
      "text/plain": [
       "[True, 'New', 'ABCD', 1234567, (20+12j), 'Mahi', 20, 12, 8.56]"
      ]
     },
     "execution_count": 38,
     "metadata": {},
     "output_type": "execute_result"
    }
   ],
   "source": [
    "list_1\n"
   ]
  },
  {
   "cell_type": "markdown",
   "id": "e4a355e9-6625-4d41-9384-feb70d9e6049",
   "metadata": {},
   "source": [
    "TUPLES\n",
    " * it is immutable collection of heterogenerous data\n",
    " * ordered collections\n",
    " * declared by () small brackets or tuple()->tuple function"
   ]
  },
  {
   "cell_type": "code",
   "execution_count": 39,
   "id": "c327592f-1182-4be5-9211-736076ac28f1",
   "metadata": {},
   "outputs": [],
   "source": [
    "tuple=(True,12,'Rai',20+65j,1456789)"
   ]
  },
  {
   "cell_type": "code",
   "execution_count": 40,
   "id": "e789d20a-248d-427b-b925-56695b75be5a",
   "metadata": {},
   "outputs": [
    {
     "data": {
      "text/plain": [
       "1"
      ]
     },
     "execution_count": 40,
     "metadata": {},
     "output_type": "execute_result"
    }
   ],
   "source": [
    "tuple.index(12)"
   ]
  },
  {
   "cell_type": "code",
   "execution_count": 41,
   "id": "f61dfe9d-85a5-4cdc-b51e-93b0e4a07066",
   "metadata": {},
   "outputs": [
    {
     "data": {
      "text/plain": [
       "1"
      ]
     },
     "execution_count": 41,
     "metadata": {},
     "output_type": "execute_result"
    }
   ],
   "source": [
    "tuple.count(True)"
   ]
  },
  {
   "cell_type": "code",
   "execution_count": 42,
   "id": "4d93ee50-1800-4cbd-b07b-7e5bdadf7114",
   "metadata": {},
   "outputs": [
    {
     "data": {
      "text/plain": [
       "0"
      ]
     },
     "execution_count": 42,
     "metadata": {},
     "output_type": "execute_result"
    }
   ],
   "source": [
    "tuple.count('true')"
   ]
  },
  {
   "cell_type": "markdown",
   "id": "9b12d837-2fbe-402f-87c1-a918008f2f4a",
   "metadata": {},
   "source": [
    "DICTIONARY\n",
    " * Data has been declared by key value pairs\n",
    " * key must be unique and values can be duplicate\n",
    " * declared using{} curly brackets\n",
    "   "
   ]
  },
  {
   "cell_type": "code",
   "execution_count": 45,
   "id": "17347da4-fc00-4068-8907-bdd7ffe6793e",
   "metadata": {},
   "outputs": [],
   "source": [
    "dict1={'Name':'Mahesh','Id':65,'job':'data analyst','Education':'BE'}\n"
   ]
  },
  {
   "cell_type": "code",
   "execution_count": 46,
   "id": "5c59ab33-82fb-467f-bb75-35f12268f96d",
   "metadata": {},
   "outputs": [
    {
     "name": "stdout",
     "output_type": "stream",
     "text": [
      "{'Name': 'Mahesh', 'Id': 65, 'job': 'data analyst', 'Education': 'BE'}\n"
     ]
    }
   ],
   "source": [
    "print(dict1)"
   ]
  },
  {
   "cell_type": "code",
   "execution_count": 47,
   "id": "88c1b016-42ee-4f66-8d8b-a54c828ff1d9",
   "metadata": {},
   "outputs": [
    {
     "data": {
      "text/plain": [
       "'Mahesh'"
      ]
     },
     "execution_count": 47,
     "metadata": {},
     "output_type": "execute_result"
    }
   ],
   "source": [
    "dict1['Name']"
   ]
  },
  {
   "cell_type": "code",
   "execution_count": 48,
   "id": "2253f52b-3d1d-459c-90bf-a21228e829d7",
   "metadata": {},
   "outputs": [
    {
     "ename": "KeyError",
     "evalue": "'sal'",
     "output_type": "error",
     "traceback": [
      "\u001b[1;31m---------------------------------------------------------------------------\u001b[0m",
      "\u001b[1;31mKeyError\u001b[0m                                  Traceback (most recent call last)",
      "Cell \u001b[1;32mIn[48], line 1\u001b[0m\n\u001b[1;32m----> 1\u001b[0m dict1[\u001b[38;5;124m'\u001b[39m\u001b[38;5;124msal\u001b[39m\u001b[38;5;124m'\u001b[39m]\n",
      "\u001b[1;31mKeyError\u001b[0m: 'sal'"
     ]
    }
   ],
   "source": [
    "dict1['sal']\n"
   ]
  },
  {
   "cell_type": "code",
   "execution_count": 50,
   "id": "3a80e611-9170-4853-983d-e9a9a7626671",
   "metadata": {},
   "outputs": [],
   "source": [
    "dict1.update({'salary':100000,'city':'Bombay'})"
   ]
  },
  {
   "cell_type": "code",
   "execution_count": 51,
   "id": "1de4c63c-55fc-41c5-bb77-33d0687ff8b7",
   "metadata": {},
   "outputs": [
    {
     "data": {
      "text/plain": [
       "{'Name': 'Mahesh',\n",
       " 'Id': 65,\n",
       " 'job': 'data analyst',\n",
       " 'Education': 'BE',\n",
       " 'salary': 100000,\n",
       " 'city': 'Bombay'}"
      ]
     },
     "execution_count": 51,
     "metadata": {},
     "output_type": "execute_result"
    }
   ],
   "source": [
    "dict1"
   ]
  },
  {
   "cell_type": "code",
   "execution_count": 52,
   "id": "854f9ac9-0976-4083-98a7-8b46622be57a",
   "metadata": {},
   "outputs": [
    {
     "data": {
      "text/plain": [
       "dict_keys(['Name', 'Id', 'job', 'Education', 'salary', 'city'])"
      ]
     },
     "execution_count": 52,
     "metadata": {},
     "output_type": "execute_result"
    }
   ],
   "source": [
    "dict1.keys()"
   ]
  },
  {
   "cell_type": "code",
   "execution_count": 53,
   "id": "651301d3-58be-475b-b7d4-1cb35924878f",
   "metadata": {},
   "outputs": [
    {
     "data": {
      "text/plain": [
       "dict_values(['Mahesh', 65, 'data analyst', 'BE', 100000, 'Bombay'])"
      ]
     },
     "execution_count": 53,
     "metadata": {},
     "output_type": "execute_result"
    }
   ],
   "source": [
    "dict1.values()"
   ]
  },
  {
   "cell_type": "code",
   "execution_count": 55,
   "id": "00b8e97c-f50b-4f34-839a-f9f28bf537ab",
   "metadata": {},
   "outputs": [
    {
     "data": {
      "text/plain": [
       "dict_items([('Name', 'Mahesh'), ('Id', 65), ('job', 'data analyst'), ('Education', 'BE'), ('salary', 100000), ('city', 'Bombay')])"
      ]
     },
     "execution_count": 55,
     "metadata": {},
     "output_type": "execute_result"
    }
   ],
   "source": [
    "dict1.items()"
   ]
  },
  {
   "cell_type": "code",
   "execution_count": 56,
   "id": "17e89c37-6e96-4be9-bc10-db320dee9aa8",
   "metadata": {},
   "outputs": [
    {
     "name": "stdout",
     "output_type": "stream",
     "text": [
      "('Name', 'Mahesh')\n",
      "('Id', 65)\n",
      "('job', 'data analyst')\n",
      "('Education', 'BE')\n",
      "('salary', 100000)\n",
      "('city', 'Bombay')\n"
     ]
    }
   ],
   "source": [
    "for i in dict1.items():\n",
    "    print(i)"
   ]
  },
  {
   "cell_type": "markdown",
   "id": "26c7e975-6f68-4e37-8faa-df77938d3e32",
   "metadata": {},
   "source": [
    "\n",
    "SETS\n",
    " * sets are unordered collections\n",
    " * it is mutable collection\n",
    " * remove duplicates\n",
    " * set of uniques values\n",
    " * declare empty set by only set()\n",
    "   \n"
   ]
  },
  {
   "cell_type": "code",
   "execution_count": 57,
   "id": "abfdd5ad-3a2d-4eb9-83e9-490d7959582a",
   "metadata": {},
   "outputs": [],
   "source": [
    "fruitset={'Apple','Orange','Banana','Apple'}"
   ]
  },
  {
   "cell_type": "code",
   "execution_count": 58,
   "id": "91bd5ae7-4fff-4e77-98c6-f395fce92043",
   "metadata": {},
   "outputs": [
    {
     "name": "stdout",
     "output_type": "stream",
     "text": [
      "{'Apple', 'Banana', 'Orange'}\n"
     ]
    }
   ],
   "source": [
    "print(fruitset)"
   ]
  },
  {
   "cell_type": "code",
   "execution_count": 74,
   "id": "5504add4-c917-41e5-a3e9-aacd70c19ed3",
   "metadata": {},
   "outputs": [],
   "source": [
    "set1={'Apple','Orange','Watermelon','Guava','Banana','Apple'}\n",
    "set2={'Apple','Orange','Pineapple','Guava','Banana','Mango'}\n",
    "set3={'Apple','Watermelon','Grapes','Banana'}"
   ]
  },
  {
   "cell_type": "code",
   "execution_count": 75,
   "id": "87cabae2-06f7-407e-a561-d9ac4a281d90",
   "metadata": {},
   "outputs": [
    {
     "data": {
      "text/plain": [
       "{'Apple', 'Banana', 'Guava', 'Mango', 'Orange', 'Pineapple', 'Watermelon'}"
      ]
     },
     "execution_count": 75,
     "metadata": {},
     "output_type": "execute_result"
    }
   ],
   "source": [
    "set1.union(set2)\n",
    "\n"
   ]
  },
  {
   "cell_type": "code",
   "execution_count": 76,
   "id": "f09cbd94-d45f-49fe-b0d9-c1e5f03519c4",
   "metadata": {},
   "outputs": [
    {
     "data": {
      "text/plain": [
       "{'Apple', 'Banana', 'Guava', 'Orange'}"
      ]
     },
     "execution_count": 76,
     "metadata": {},
     "output_type": "execute_result"
    }
   ],
   "source": [
    "set1.intersection(set2)\n",
    "\n"
   ]
  },
  {
   "cell_type": "code",
   "execution_count": 77,
   "id": "902eb16a-c493-4c91-9e3d-5f7f0c69242c",
   "metadata": {},
   "outputs": [],
   "source": [
    "set1.add('kiwi')"
   ]
  },
  {
   "cell_type": "code",
   "execution_count": 78,
   "id": "c3a0d5a0-e356-4813-8753-eb8bbaabafd6",
   "metadata": {},
   "outputs": [
    {
     "data": {
      "text/plain": [
       "{'Apple', 'Banana', 'Guava', 'Orange', 'Watermelon', 'kiwi'}"
      ]
     },
     "execution_count": 78,
     "metadata": {},
     "output_type": "execute_result"
    }
   ],
   "source": [
    "set1"
   ]
  },
  {
   "cell_type": "code",
   "execution_count": 79,
   "id": "288ad66c-a0b1-4ed9-b1a9-1003b7e69367",
   "metadata": {},
   "outputs": [
    {
     "data": {
      "text/plain": [
       "{'Guava', 'Mango', 'Orange', 'Pineapple'}"
      ]
     },
     "execution_count": 79,
     "metadata": {},
     "output_type": "execute_result"
    }
   ],
   "source": [
    "set2.difference(set3)"
   ]
  },
  {
   "cell_type": "code",
   "execution_count": 80,
   "id": "f8c2c478-cffb-4059-9d5e-0e29111f005f",
   "metadata": {},
   "outputs": [
    {
     "data": {
      "text/plain": [
       "{'Apple',\n",
       " 'Banana',\n",
       " 'Grapes',\n",
       " 'Guava',\n",
       " 'Mango',\n",
       " 'Orange',\n",
       " 'Pineapple',\n",
       " 'Watermelon'}"
      ]
     },
     "execution_count": 80,
     "metadata": {},
     "output_type": "execute_result"
    }
   ],
   "source": [
    "set2.union(set3)"
   ]
  },
  {
   "cell_type": "markdown",
   "id": "4dbde658-f963-4db7-8d20-b951d85d645e",
   "metadata": {},
   "source": [
    "3.INDEXES AND SLICING\n",
    " * indexes are used for fetching individual value\n",
    " * slicing is used for fetching collection of sequence of values.\n",
    "   "
   ]
  },
  {
   "cell_type": "code",
   "execution_count": 82,
   "id": "fad0f5cb-539b-456b-812e-01cd716c3566",
   "metadata": {},
   "outputs": [
    {
     "data": {
      "text/plain": [
       "[True, 'New', 'ABCD', 1234567, (20+12j), 'Mahi', 20, 12, 8.56]"
      ]
     },
     "execution_count": 82,
     "metadata": {},
     "output_type": "execute_result"
    }
   ],
   "source": [
    "list_1\n"
   ]
  },
  {
   "cell_type": "code",
   "execution_count": 83,
   "id": "819b64db-c69f-4ea6-a761-c2702b1d8ab4",
   "metadata": {},
   "outputs": [
    {
     "data": {
      "text/plain": [
       "[True, 'New', False, 'ABCD', 1234567, (20+12j), 'Mahi', 'False', 20, 12, 8.56]"
      ]
     },
     "execution_count": 83,
     "metadata": {},
     "output_type": "execute_result"
    }
   ],
   "source": [
    "list_2\n"
   ]
  },
  {
   "cell_type": "code",
   "execution_count": 84,
   "id": "f24574ca-058d-4430-87fa-e91b5a3d0bf8",
   "metadata": {},
   "outputs": [
    {
     "data": {
      "text/plain": [
       "True"
      ]
     },
     "execution_count": 84,
     "metadata": {},
     "output_type": "execute_result"
    }
   ],
   "source": [
    "#indexing \n",
    "list_1[0]\n"
   ]
  },
  {
   "cell_type": "code",
   "execution_count": 86,
   "id": "9155de47-fa43-42c6-b91f-eb6c2889a580",
   "metadata": {},
   "outputs": [
    {
     "data": {
      "text/plain": [
       "['ABCD', 1234567, (20+12j), 'Mahi', 20, 12, 8.56]"
      ]
     },
     "execution_count": 86,
     "metadata": {},
     "output_type": "execute_result"
    }
   ],
   "source": [
    "list_1[2:]\n",
    "#slicing"
   ]
  },
  {
   "cell_type": "code",
   "execution_count": 87,
   "id": "1a5ab62a-efa5-41a5-91ae-ae982362fad5",
   "metadata": {},
   "outputs": [
    {
     "data": {
      "text/plain": [
       "0"
      ]
     },
     "execution_count": 87,
     "metadata": {},
     "output_type": "execute_result"
    }
   ],
   "source": [
    "list_1.index((True))"
   ]
  },
  {
   "cell_type": "code",
   "execution_count": 88,
   "id": "c67e3adf-20c9-4c11-b5e1-2e03a965c28c",
   "metadata": {},
   "outputs": [
    {
     "data": {
      "text/plain": [
       "['ABCD', (20+12j)]"
      ]
     },
     "execution_count": 88,
     "metadata": {},
     "output_type": "execute_result"
    }
   ],
   "source": [
    "list_1[2:6:2]"
   ]
  },
  {
   "cell_type": "code",
   "execution_count": 89,
   "id": "cb86ee52-ec93-467d-ad5a-89292e9faeee",
   "metadata": {},
   "outputs": [
    {
     "data": {
      "text/plain": [
       "8.56"
      ]
     },
     "execution_count": 89,
     "metadata": {},
     "output_type": "execute_result"
    }
   ],
   "source": [
    "list_1[-1]"
   ]
  },
  {
   "cell_type": "code",
   "execution_count": 90,
   "id": "a716c6a3-2b31-42c7-bb26-40af92c343ab",
   "metadata": {},
   "outputs": [
    {
     "data": {
      "text/plain": [
       "['Mahi', 'False', 20, 12]"
      ]
     },
     "execution_count": 90,
     "metadata": {},
     "output_type": "execute_result"
    }
   ],
   "source": [
    "list_2[-5:-1]"
   ]
  },
  {
   "cell_type": "markdown",
   "id": "117b9fd4-a933-4e88-981c-f464b7fb3d27",
   "metadata": {},
   "source": [
    "4. Loop\n"
   ]
  },
  {
   "cell_type": "code",
   "execution_count": 98,
   "id": "dcc41f62-c161-4c9a-a0dc-24a699c9c9bd",
   "metadata": {},
   "outputs": [
    {
     "name": "stdout",
     "output_type": "stream",
     "text": [
      "[1, 4, 9, 16, 25, 36, 49, 64, 81, 100]\n"
     ]
    }
   ],
   "source": [
    "#Write a python program which will print list of square values btw 1 and 10\n",
    "square=[]\n",
    "for i in range(1,11):\n",
    "    square.append(i*i) \n",
    "    # square.append(i**2)\n",
    "print(square)"
   ]
  },
  {
   "cell_type": "code",
   "execution_count": 97,
   "id": "b54edd36-0f4d-4e1e-8caf-2ac24785aa48",
   "metadata": {},
   "outputs": [
    {
     "name": "stdout",
     "output_type": "stream",
     "text": [
      "[1, 4, 9]\n"
     ]
    }
   ],
   "source": [
    "square=[]\n",
    "for i in range(1,11):\n",
    "    if i*i>10:\n",
    "        break;\n",
    "    else:\n",
    "        square.append(i*i)\n",
    "print(square)"
   ]
  },
  {
   "cell_type": "code",
   "execution_count": 100,
   "id": "5c759e0a-1772-4c10-8311-cb358ea027c1",
   "metadata": {},
   "outputs": [
    {
     "data": {
      "text/plain": [
       "[1, 4, 9, 16, 25, 36, 49, 64, 81, 100]"
      ]
     },
     "execution_count": 100,
     "metadata": {},
     "output_type": "execute_result"
    }
   ],
   "source": [
    "#List Comprehension\n",
    "[i**2 for i in range(1,11)]"
   ]
  },
  {
   "cell_type": "code",
   "execution_count": 101,
   "id": "64e73470-1b36-4287-b718-445da2fbc8eb",
   "metadata": {},
   "outputs": [
    {
     "data": {
      "text/plain": [
       "[1, 8, 27, 64, 125, 216, 343, 512, 729, 1000]"
      ]
     },
     "execution_count": 101,
     "metadata": {},
     "output_type": "execute_result"
    }
   ],
   "source": [
    "sq=[i**3 for i in range(1,11)]\n",
    "sq"
   ]
  },
  {
   "cell_type": "markdown",
   "id": "635f5ee2-bc16-4a1f-a8ce-a2d69c93c5bb",
   "metadata": {},
   "source": [
    "5.Conditional Statement"
   ]
  },
  {
   "cell_type": "code",
   "execution_count": 111,
   "id": "a2947df2-6345-47d7-a1ce-6ec34ae36ffb",
   "metadata": {},
   "outputs": [
    {
     "name": "stdin",
     "output_type": "stream",
     "text": [
      "Enter your age: 20\n"
     ]
    },
    {
     "name": "stdout",
     "output_type": "stream",
     "text": [
      "Eligible\n"
     ]
    }
   ],
   "source": [
    "#Write a python programm to check if they are eligible to vote or not\n",
    "num=int(input(\"Enter your age:\"))\n",
    "if(num>=18):\n",
    "    print(\"Eligible\")\n",
    "    "
   ]
  },
  {
   "cell_type": "code",
   "execution_count": 109,
   "id": "45655cb2-e15a-403b-9265-943bf609580b",
   "metadata": {},
   "outputs": [
    {
     "name": "stdout",
     "output_type": "stream",
     "text": [
      "Not eligble to vote\n"
     ]
    }
   ],
   "source": [
    "num =2\n",
    "if num>=18:\n",
    "    print(\"Eligible to vote\")\n",
    "else:\n",
    "    print(\"Not eligble to vote\")"
   ]
  },
  {
   "cell_type": "code",
   "execution_count": 118,
   "id": "f3decef1-1fa5-46dd-a8b9-c0730cc2aa40",
   "metadata": {},
   "outputs": [
    {
     "name": "stdin",
     "output_type": "stream",
     "text": [
      "Enter your marks: 99\n"
     ]
    },
    {
     "name": "stdout",
     "output_type": "stream",
     "text": [
      "A\n"
     ]
    }
   ],
   "source": [
    "#write a python program to convert marks into grades\n",
    "\n",
    "num=int(input(\"Enter your marks:\"))\n",
    "if(num>90): \n",
    "    print('A')\n",
    "elif(num>80): \n",
    "    print('B')\n",
    "elif(num>70):\n",
    "    print('C')\n",
    "else: \n",
    "    print('D')"
   ]
  },
  {
   "cell_type": "code",
   "execution_count": 119,
   "id": "2fb76237-edc0-415c-bef2-a60f1a05c0cd",
   "metadata": {},
   "outputs": [
    {
     "data": {
      "text/plain": [
       "['Not eligible',\n",
       " 'Eligible',\n",
       " 'Eligible',\n",
       " 'Not eligible',\n",
       " 'Not eligible',\n",
       " 'Eligible']"
      ]
     },
     "execution_count": 119,
     "metadata": {},
     "output_type": "execute_result"
    }
   ],
   "source": [
    "ages=[12,18,33,2,11,20]\n",
    "[\"Eligible\" if age>=18 else \"Not eligible\" for age in ages]"
   ]
  },
  {
   "cell_type": "markdown",
   "id": "f910ccc5-2a89-4214-92ef-938ad40c5e40",
   "metadata": {},
   "source": [
    "6.Continue and Break \n"
   ]
  },
  {
   "cell_type": "code",
   "execution_count": 121,
   "id": "7bc9b2e9-4e68-41f5-be38-680d6f09e653",
   "metadata": {},
   "outputs": [
    {
     "name": "stdout",
     "output_type": "stream",
     "text": [
      "appl\n",
      "amazon\n",
      "google\n",
      "Flipkart\n",
      "Mxplayer\n"
     ]
    }
   ],
   "source": [
    "stocks=['appl','amazon','google',None,None,'Flipkart','Mxplayer']\n",
    "for i in stocks:\n",
    "    if (i is None):\n",
    "        continue\n",
    "    print(i)\n",
    "    "
   ]
  },
  {
   "cell_type": "code",
   "execution_count": 122,
   "id": "58798242-9f14-4a70-a06b-841d56358c56",
   "metadata": {},
   "outputs": [
    {
     "name": "stdout",
     "output_type": "stream",
     "text": [
      "appl\n",
      "amazon\n",
      "google\n"
     ]
    }
   ],
   "source": [
    "stocks=['appl','amazon','google',None,None,'Flipkart','Mxplayer']\n",
    "for i in stocks:\n",
    "    if (i is None):\n",
    "       break\n",
    "    print(i)\n",
    "\n"
   ]
  },
  {
   "cell_type": "code",
   "execution_count": null,
   "id": "8e1dadee-19d1-4da7-9094-0f98e53ba5be",
   "metadata": {},
   "outputs": [],
   "source": []
  }
 ],
 "metadata": {
  "kernelspec": {
   "display_name": "Python [conda env:base] *",
   "language": "python",
   "name": "conda-base-py"
  },
  "language_info": {
   "codemirror_mode": {
    "name": "ipython",
    "version": 3
   },
   "file_extension": ".py",
   "mimetype": "text/x-python",
   "name": "python",
   "nbconvert_exporter": "python",
   "pygments_lexer": "ipython3",
   "version": "3.13.5"
  }
 },
 "nbformat": 4,
 "nbformat_minor": 5
}
